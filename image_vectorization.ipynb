{
  "nbformat": 4,
  "nbformat_minor": 0,
  "metadata": {
    "colab": {
      "name": "Untitled0.ipynb",
      "provenance": [],
      "collapsed_sections": [],
      "authorship_tag": "ABX9TyMQOFIhHfElzrnc5RTgb4Ph",
      "include_colab_link": true
    },
    "kernelspec": {
      "name": "python3",
      "display_name": "Python 3"
    },
    "language_info": {
      "name": "python"
    }
  },
  "cells": [
    {
      "cell_type": "markdown",
      "metadata": {
        "id": "view-in-github",
        "colab_type": "text"
      },
      "source": [
        "<a href=\"https://colab.research.google.com/github/sheldon-o/deep-learnig/blob/main/image_vectorization.ipynb\" target=\"_parent\"><img src=\"https://colab.research.google.com/assets/colab-badge.svg\" alt=\"Open In Colab\"/></a>"
      ]
    },
    {
      "cell_type": "code",
      "execution_count": 18,
      "metadata": {
        "id": "7Zo9MSJfoiDB"
      },
      "outputs": [],
      "source": [
        "import numpy as np\n"
      ]
    },
    {
      "cell_type": "code",
      "source": [
        "a=np.array([1,2,3,4])\n",
        "print(a)\n"
      ],
      "metadata": {
        "colab": {
          "base_uri": "https://localhost:8080/"
        },
        "id": "19emf6hZoyoA",
        "outputId": "bd11e9e2-6c17-474f-ab96-57477ed26f0d"
      },
      "execution_count": null,
      "outputs": [
        {
          "output_type": "stream",
          "name": "stdout",
          "text": [
            "[1 2 3 4]\n"
          ]
        }
      ]
    },
    {
      "cell_type": "code",
      "source": [
        "import time\n"
      ],
      "metadata": {
        "id": "m5hECjzspjHc"
      },
      "execution_count": null,
      "outputs": []
    },
    {
      "cell_type": "code",
      "source": [
        "a=np.random.rand(1000000)\n",
        "b=np.random.rand(1000000)\n",
        "tic=time.time()\n",
        "c=np.dot(a,b)\n",
        "toc=time.time()\n",
        "print(\"vectorized vesrion: \"+str(1000*(toc-tic))+\"ms\")"
      ],
      "metadata": {
        "colab": {
          "base_uri": "https://localhost:8080/"
        },
        "id": "9GowMUR5pmlj",
        "outputId": "15f125e5-568c-4309-edd6-2ab6229ed003"
      },
      "execution_count": null,
      "outputs": [
        {
          "output_type": "stream",
          "name": "stdout",
          "text": [
            "vectorized vesrion: 1.4615058898925781ms\n"
          ]
        }
      ]
    },
    {
      "cell_type": "code",
      "source": [
        "c=0\n",
        "tic=time.time()\n",
        "for i in range(1000000):\n",
        "  c+=a[i]*b[i]\n",
        "toc=time.time()\n",
        "print(\"non vectorized version: \"+str(1000*(toc-tic))+\"ms\")"
      ],
      "metadata": {
        "colab": {
          "base_uri": "https://localhost:8080/"
        },
        "id": "np7s3Hv4qN2w",
        "outputId": "83418e98-c1a1-4e25-8315-80e5a25d3b02"
      },
      "execution_count": null,
      "outputs": [
        {
          "output_type": "stream",
          "name": "stdout",
          "text": [
            "non vectorized version: 602.9853820800781ms\n"
          ]
        }
      ]
    },
    {
      "cell_type": "code",
      "source": [
        "#broadcasting\n",
        "#\n",
        "a=np.array([[1,53,24,98],\n",
        "            [2,33,51,9],\n",
        "            [3,12,22,45],\n",
        "            [4,3,6,9]])\n",
        "cal=a.sum(axis=0)\n",
        "print(cal)\n"
      ],
      "metadata": {
        "colab": {
          "base_uri": "https://localhost:8080/"
        },
        "id": "XOH3GJ-aozk_",
        "outputId": "9f1e4529-0a54-4412-d3a2-91a1b97ebb10"
      },
      "execution_count": 10,
      "outputs": [
        {
          "output_type": "stream",
          "name": "stdout",
          "text": [
            "[ 10 101 103 161]\n"
          ]
        }
      ]
    },
    {
      "cell_type": "code",
      "source": [
        "percentage=100*a/cal\n",
        "print(percentage)"
      ],
      "metadata": {
        "colab": {
          "base_uri": "https://localhost:8080/"
        },
        "id": "Ppy94CcaqCMq",
        "outputId": "ba43756d-8fa7-46c4-eef1-cf8863131a2e"
      },
      "execution_count": 11,
      "outputs": [
        {
          "output_type": "stream",
          "name": "stdout",
          "text": [
            "[[10.         52.47524752 23.30097087 60.86956522]\n",
            " [20.         32.67326733 49.51456311  5.59006211]\n",
            " [30.         11.88118812 21.3592233  27.95031056]\n",
            " [40.          2.97029703  5.82524272  5.59006211]]\n"
          ]
        }
      ]
    },
    {
      "cell_type": "code",
      "source": [
        "a=np.random.randn(1,100)\n",
        "print(a)\n",
        "print(a.shape)"
      ],
      "metadata": {
        "colab": {
          "base_uri": "https://localhost:8080/"
        },
        "id": "spcjRYm1qpfc",
        "outputId": "357c1ece-ddf6-4dcb-ad08-9b53ab655653"
      },
      "execution_count": 16,
      "outputs": [
        {
          "output_type": "stream",
          "name": "stdout",
          "text": [
            "[[-0.18241717 -0.7805281  -0.14737432 -0.14967908  0.00602003 -1.18277485\n",
            "  -0.71348131 -2.56101196  2.71360447 -0.55671945  0.31203832 -0.69374998\n",
            "   1.17713194 -0.47042372 -0.10980563  0.32898683 -0.2846399   0.51027367\n",
            "   1.67056752  1.10029144 -1.17397844  0.6124595  -0.49658729 -0.36559202\n",
            "  -0.71777097  0.12543393  1.70152046 -0.59736379  1.49874621 -0.29564006\n",
            "   0.41595537 -1.05611491  0.27977481 -0.28387985 -0.07684986 -0.87881063\n",
            "  -1.27987834 -0.1034913  -0.14430781 -0.39330856  1.18433228  0.40733317\n",
            "  -0.77232822 -2.44390195 -1.900931   -0.0538436   0.26362724  1.02168395\n",
            "   0.88127929  0.68689467 -0.15712068  0.1640778  -2.14974886 -0.74867979\n",
            "   0.70114422 -0.02013375 -0.65082739  4.15626688  0.2204357  -0.77801465\n",
            "  -0.94270074 -1.04488117 -1.32079709 -0.8298888  -0.67946241 -0.48169489\n",
            "   0.43273125 -2.46954437  0.02916226 -0.24470796  1.47503656 -1.14619095\n",
            "   0.46213138 -1.02191538 -0.24927156  2.20224155  0.86012208 -0.59025939\n",
            "  -1.71514916  0.26624056 -0.58859602 -0.55111831 -0.8970946  -0.045087\n",
            "  -0.29303348  1.1547756  -1.52551908  0.06360312  0.69422691 -1.22754256\n",
            "  -0.3322457  -0.0674471   2.1156071   1.30092315  0.07066652 -1.39377081\n",
            "  -0.19742438  1.10798101  1.02233809  0.44496814]]\n",
            "(1, 100)\n"
          ]
        }
      ]
    },
    {
      "cell_type": "code",
      "source": [
        "a=np.random.randn(3,3)\n",
        "b=np.random.randn(3,1)\n",
        "c=a*b"
      ],
      "metadata": {
        "id": "B4rgw04Ss92Q"
      },
      "execution_count": 21,
      "outputs": []
    },
    {
      "cell_type": "code",
      "source": [
        "print(c)\n",
        "print(c.shape)"
      ],
      "metadata": {
        "colab": {
          "base_uri": "https://localhost:8080/"
        },
        "id": "DFXgBps7toCa",
        "outputId": "6617c455-a113-4c24-e42d-7a172aab56c1"
      },
      "execution_count": 22,
      "outputs": [
        {
          "output_type": "stream",
          "name": "stdout",
          "text": [
            "[[ 1.03209336  0.18516764  0.17149169]\n",
            " [-0.05395872 -0.16392678  0.10256806]\n",
            " [-0.07107236  0.43497729 -0.37866531]]\n",
            "(3, 3)\n"
          ]
        }
      ]
    },
    {
      "cell_type": "code",
      "source": [
        "print(a)\n",
        "print(b)\n",
        "print(c)"
      ],
      "metadata": {
        "colab": {
          "base_uri": "https://localhost:8080/"
        },
        "id": "kger18pvt3vF",
        "outputId": "aad58d98-b713-4ab0-e9eb-a2ecae3ce712"
      },
      "execution_count": 24,
      "outputs": [
        {
          "output_type": "stream",
          "name": "stdout",
          "text": [
            "[[-2.40389456 -0.43128219 -0.39942892]\n",
            " [-0.2205351  -0.66998635  0.41920667]\n",
            " [ 0.17168406 -1.05074134  0.9147128 ]]\n",
            "[[-0.42934219]\n",
            " [ 0.24467183]\n",
            " [-0.4139718 ]]\n",
            "[[ 1.03209336  0.18516764  0.17149169]\n",
            " [-0.05395872 -0.16392678  0.10256806]\n",
            " [-0.07107236  0.43497729 -0.37866531]]\n"
          ]
        }
      ]
    },
    {
      "cell_type": "code",
      "source": [
        "a=np.array([[[1],[2]],\n",
        "           [[2],[3]]])\n",
        "b=np.array([[2,3],\n",
        "            [4,5]])\n",
        "c=a*b\n",
        "print(c)\n",
        "c.shape"
      ],
      "metadata": {
        "colab": {
          "base_uri": "https://localhost:8080/"
        },
        "id": "deTotby8vCOO",
        "outputId": "3893bbaf-bc6e-4558-a35a-2c7ed9d8c67b"
      },
      "execution_count": 36,
      "outputs": [
        {
          "output_type": "stream",
          "name": "stdout",
          "text": [
            "[[[ 2  3]\n",
            "  [ 8 10]]\n",
            "\n",
            " [[ 4  6]\n",
            "  [12 15]]]\n"
          ]
        },
        {
          "output_type": "execute_result",
          "data": {
            "text/plain": [
              "(2, 2, 2)"
            ]
          },
          "metadata": {},
          "execution_count": 36
        }
      ]
    },
    {
      "cell_type": "code",
      "source": [
        "a=np.random.randn(15,8)\n",
        "b=np.random.randn(8,13)\n",
        "c=np.dot(a,b)\n",
        "print(c.shape)"
      ],
      "metadata": {
        "colab": {
          "base_uri": "https://localhost:8080/"
        },
        "id": "-qThit7Fv-kS",
        "outputId": "d50e6f97-7305-4505-b291-fe558cc6d6a2"
      },
      "execution_count": 27,
      "outputs": [
        {
          "output_type": "stream",
          "name": "stdout",
          "text": [
            "(15, 13)\n"
          ]
        }
      ]
    },
    {
      "cell_type": "markdown",
      "source": [
        "#image  vectorization\n",
        "\n"
      ],
      "metadata": {
        "id": "WxZI0daL8QBw"
      }
    },
    {
      "cell_type": "code",
      "source": [
        "t_image = np.array([[[ 0.67826139,  0.29380381],\n",
        "                     [ 0.90714982,  0.52835647],\n",
        "                     [ 0.4215251 ,  0.45017551]],\n",
        "\n",
        "                   [[ 0.92814219,  0.96677647],\n",
        "                    [ 0.85304703,  0.52351845],\n",
        "                    [ 0.19981397,  0.27417313]],\n",
        "\n",
        "                   [[ 0.60659855,  0.00533165],\n",
        "                    [ 0.10820313,  0.49978937],\n",
        "                    [ 0.34144279,  0.94630077]],\n",
        "                  [[ 0.60659855,  0.00533165],\n",
        "                  [ 0.10820313,  0.49978937],\n",
        "                  [ 0.34144279,  0.94630077]]])\n",
        "print(t_image.shape)\n",
        "a=np.array([\n",
        "            [1,2],\n",
        "])"
      ],
      "metadata": {
        "colab": {
          "base_uri": "https://localhost:8080/"
        },
        "id": "SosP4lq58SW_",
        "outputId": "d03b53cb-946a-4b04-e8b2-74f4323ea8e3"
      },
      "execution_count": 34,
      "outputs": [
        {
          "output_type": "stream",
          "name": "stdout",
          "text": [
            "(4, 3, 2)\n"
          ]
        }
      ]
    },
    {
      "cell_type": "code",
      "source": [
        "new=t_image.reshape(t_image.shape[0]*t_image.shape[1]*t_image.shape[2],1)\n",
        "print(new.shape)\n"
      ],
      "metadata": {
        "colab": {
          "base_uri": "https://localhost:8080/"
        },
        "id": "9TWLrozf8ZBd",
        "outputId": "4ea402dd-8207-41e2-9d12-be15a542bf74"
      },
      "execution_count": 33,
      "outputs": [
        {
          "output_type": "stream",
          "name": "stdout",
          "text": [
            "(18, 1)\n"
          ]
        }
      ]
    }
  ]
}